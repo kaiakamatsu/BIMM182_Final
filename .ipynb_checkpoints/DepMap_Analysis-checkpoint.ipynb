{
 "cells": [
  {
   "cell_type": "markdown",
   "id": "efa3c4b7",
   "metadata": {},
   "source": [
    "# BIMM182 Final Project"
   ]
  },
  {
   "cell_type": "markdown",
   "id": "90d0eb3d",
   "metadata": {},
   "source": [
    "## Kai Akamatsu, Kairi Tanaka, Joseph Hwang"
   ]
  },
  {
   "cell_type": "markdown",
   "id": "13b34de2",
   "metadata": {},
   "source": [
    "### How essential are genes present in ecDNA for cancer cell lines?"
   ]
  },
  {
   "cell_type": "markdown",
   "id": "b869e836",
   "metadata": {},
   "source": [
    "## Dependencies"
   ]
  },
  {
   "cell_type": "code",
   "execution_count": 12,
   "id": "ae94d823",
   "metadata": {},
   "outputs": [],
   "source": [
    "import pandas as pd\n",
    "import matplotlib.pyplot as plt\n",
    "import seaborn as sns"
   ]
  },
  {
   "cell_type": "markdown",
   "id": "5cd8f82c",
   "metadata": {},
   "source": [
    "## Collecting the Data"
   ]
  },
  {
   "cell_type": "markdown",
   "id": "b20747fc",
   "metadata": {},
   "source": [
    "- CRISPR Gene Dependency data extracted from DepMap portal\n",
    "- https://depmap.org/portal/download/all/"
   ]
  },
  {
   "cell_type": "markdown",
   "id": "65987f14",
   "metadata": {},
   "source": [
    "## Exploratory Data Analysis "
   ]
  },
  {
   "cell_type": "code",
   "execution_count": 9,
   "id": "600a56ec",
   "metadata": {},
   "outputs": [],
   "source": [
    "# read in file \n",
    "df = pd.read_csv(\"../CRISPRGeneDependency/CRISPRGeneDependency.csv\")"
   ]
  },
  {
   "cell_type": "code",
   "execution_count": 10,
   "id": "7a129928",
   "metadata": {},
   "outputs": [
    {
     "name": "stdout",
     "output_type": "stream",
     "text": [
      "Index(['Unnamed: 0', 'A1BG (1)', 'A1CF (29974)', 'A2M (2)', 'A2ML1 (144568)',\n",
      "       'A3GALT2 (127550)', 'A4GALT (53947)', 'A4GNT (51146)', 'AAAS (8086)',\n",
      "       'AACS (65985)',\n",
      "       ...\n",
      "       'ZWILCH (55055)', 'ZWINT (11130)', 'ZXDA (7789)', 'ZXDB (158586)',\n",
      "       'ZXDC (79364)', 'ZYG11A (440590)', 'ZYG11B (79699)', 'ZYX (7791)',\n",
      "       'ZZEF1 (23140)', 'ZZZ3 (26009)'],\n",
      "      dtype='object', length=18444)\n"
     ]
    }
   ],
   "source": [
    "print(df.columns) # columns = gene"
   ]
  },
  {
   "cell_type": "code",
   "execution_count": 11,
   "id": "1fd062ab",
   "metadata": {},
   "outputs": [
    {
     "name": "stdout",
     "output_type": "stream",
     "text": [
      "0       ACH-000001\n",
      "1       ACH-000004\n",
      "2       ACH-000005\n",
      "3       ACH-000007\n",
      "4       ACH-000009\n",
      "           ...    \n",
      "1095    ACH-002834\n",
      "1096    ACH-002847\n",
      "1097    ACH-002922\n",
      "1098    ACH-002925\n",
      "1099    ACH-002926\n",
      "Name: Unnamed: 0, Length: 1100, dtype: object\n"
     ]
    }
   ],
   "source": [
    "print(df['Unnamed: 0']) # row = cell lines"
   ]
  },
  {
   "cell_type": "code",
   "execution_count": null,
   "id": "9149929f",
   "metadata": {},
   "outputs": [],
   "source": [
    "correlation = df.corr()\n",
    "plt.figure(figsize=(10, 8))\n",
    "sns.heatmap(correlation, annot=True, cmap='coolwarm', fmt=\".2f\", linewidths=.5)\n",
    "plt.title('Correlation of Gene Essentiality Across Cell Lines')\n",
    "plt.show()"
   ]
  },
  {
   "cell_type": "code",
   "execution_count": null,
   "id": "7e1421d0",
   "metadata": {},
   "outputs": [],
   "source": [
    "df_ecDNA_genes = pd.read_csv(\"ecDNA_genes.csv\")"
   ]
  }
 ],
 "metadata": {
  "kernelspec": {
   "display_name": "Python 3 (ipykernel)",
   "language": "python",
   "name": "python3"
  },
  "language_info": {
   "codemirror_mode": {
    "name": "ipython",
    "version": 3
   },
   "file_extension": ".py",
   "mimetype": "text/x-python",
   "name": "python",
   "nbconvert_exporter": "python",
   "pygments_lexer": "ipython3",
   "version": "3.10.9"
  }
 },
 "nbformat": 4,
 "nbformat_minor": 5
}
