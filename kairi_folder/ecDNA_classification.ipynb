{
 "cells": [
  {
   "cell_type": "code",
   "execution_count": null,
   "metadata": {},
   "outputs": [],
   "source": [
    "import pandas as pd\n",
    "import seaborn as sns\n",
    "import matplotlib.pyplot as plt\n",
    "\n",
    "# Load the CRISPR gene effect data\n",
    "crispr_df = pd.read_csv(\"/Users/kairi/Desktop/BENG_182_Project/FINAL_FILTERED_CRISPR.csv\")\n",
    "# Load the mapping file\n",
    "mapping_df = pd.read_csv(\"/Users/kairi/Desktop/BENG_182_Project/mapping.tsv\", sep='\\t')"
   ]
  },
  {
   "cell_type": "code",
   "execution_count": null,
   "metadata": {},
   "outputs": [],
   "source": [
    "# Rename columns for merging\n",
    "mapping_df = mapping_df.rename(columns={'Model ID': 'ACH_ID'}) #rename to merge \n",
    "crispr_df = crispr_df.rename(columns={'Unnamed: 0': 'ACH_ID'}) #rename to merge "
   ]
  },
  {
   "cell_type": "code",
   "execution_count": null,
   "metadata": {},
   "outputs": [],
   "source": [
    "merged_df = pd.merge(crispr_df, mapping_df[['ACH_ID', 'Classification', 'Sample Name']], on='ACH_ID')"
   ]
  },
  {
   "cell_type": "code",
   "execution_count": null,
   "metadata": {},
   "outputs": [],
   "source": [
    "# Separate the data into ecDNA present and non-present groups\n",
    "ecDNA_present = merged_df[merged_df['Classification'] == 'ecDNA']\n",
    "ecDNA_non_present = merged_df[merged_df['Classification'] != 'ecDNA']"
   ]
  },
  {
   "cell_type": "code",
   "execution_count": null,
   "metadata": {},
   "outputs": [],
   "source": [
    "# Select only numeric columns for melting (had an error here for numeric as I wanted to include Model ID and cell line name in the nonPresent and Present files)\n",
    "numeric_columns = ecDNA_present.select_dtypes(include=['float64', 'int64']).columns"
   ]
  },
  {
   "cell_type": "code",
   "execution_count": null,
   "metadata": {},
   "outputs": [],
   "source": [
    "# Combine the two datasets for easier plotting\n",
    "ecDNA_present_melted = ecDNA_present.melt(id_vars=['ACH_ID', 'Sample Name'], value_vars=numeric_columns, var_name='Gene', value_name='Score')\n",
    "ecDNA_present_melted['Classification'] = 'ecDNA Present'\n",
    "\n",
    "ecDNA_non_present_melted = ecDNA_non_present.melt(id_vars=['ACH_ID', 'Sample Name'], value_vars=numeric_columns, var_name='Gene', value_name='Score')\n",
    "ecDNA_non_present_melted['Classification'] = 'ecDNA Not Present'\n",
    "\n",
    "# Save to CSV\n",
    "ecDNA_non_present_melted.to_csv(\"/Users/kairi/Desktop/BENG_182_Project/nonPresent.csv\", index=False)\n",
    "ecDNA_present_melted.to_csv(\"/Users/kairi/Desktop/BENG_182_Project/Present.csv\", index=False)\n"
   ]
  },
  {
   "cell_type": "code",
   "execution_count": null,
   "metadata": {},
   "outputs": [],
   "source": [
    "combined_df = pd.concat([ecDNA_present_melted, ecDNA_non_present_melted]) "
   ]
  },
  {
   "cell_type": "code",
   "execution_count": null,
   "metadata": {},
   "outputs": [],
   "source": [
    "\n",
    "def plot_gene_batches(df, batch_size=50):\n",
    "    genes = df['Gene'].unique()\n",
    "    n_batches = (len(genes) + batch_size - 1) // batch_size\n",
    "    \n",
    "    for batch in range(n_batches):\n",
    "        batch_genes = genes[batch * batch_size:(batch + 1) * batch_size]\n",
    "        batch_df = df[df['Gene'].isin(batch_genes)]\n",
    "        \n",
    "        plt.figure(figsize=(15, 10))\n",
    "        sns.boxplot(x='Gene', y='Score', hue='Classification', data=batch_df)\n",
    "        plt.xticks(rotation=90)\n",
    "        plt.title(f'Gene Scores Based on ecDNA Presence (Batch {batch + 1})')\n",
    "        plt.show()\n",
    "\n",
    "plot_gene_batches(combined_df, batch_size=50)"
   ]
  }
 ],
 "metadata": {
  "kernelspec": {
   "display_name": "Python 3.9.19 ('base')",
   "language": "python",
   "name": "python3"
  },
  "language_info": {
   "name": "python",
   "version": "3.9.19"
  },
  "orig_nbformat": 4,
  "vscode": {
   "interpreter": {
    "hash": "501649c477154ada00eeeec084ef73519d277157c22c6608b0dc2ea9e9aa6425"
   }
  }
 },
 "nbformat": 4,
 "nbformat_minor": 2
}
